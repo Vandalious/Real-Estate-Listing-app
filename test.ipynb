{
 "cells": [
  {
   "cell_type": "code",
   "execution_count": 6,
   "metadata": {},
   "outputs": [],
   "source": [
    "import datetime"
   ]
  },
  {
   "cell_type": "code",
   "execution_count": 7,
   "metadata": {},
   "outputs": [],
   "source": [
    "oof = {'owner_id': '9e4b000850ba432795932cdb8f9f9560', 'id': '12ae17134a394c2a8d621604689a42ce', 'address': 'string', 'updated_at': datetime.datetime(2023, 7, 8, 7, 16, 7, 289911, tzinfo=datetime.timezone.utc), 'type': 'HOUSE', 'available_now': True, 'created_at': datetime.datetime(2023, 7, 8, 7, 16, 7, 289911, tzinfo=datetime.timezone.utc)}\n",
    "foo = {'owner_id': '9e4b000850ba432795932cdb8f9f9560', 'id': '12ae17134a394c2a8d621604689a42ce', 'address': 'string', 'updated_at': datetime.datetime(2023, 7, 8, 7, 16, 7, 289911, tzinfo=datetime.timezone.utc), 'type': 'HOUSE', 'available_now': True, 'created_at': datetime.datetime(2023, 7, 8, 7, 16, 7, 289911, tzinfo=datetime.timezone.utc)}"
   ]
  },
  {
   "cell_type": "code",
   "execution_count": 9,
   "metadata": {},
   "outputs": [
    {
     "data": {
      "text/plain": [
       "({'owner_id': '9e4b000850ba432795932cdb8f9f9560',\n",
       "  'id': '12ae17134a394c2a8d621604689a42ce',\n",
       "  'address': 'string',\n",
       "  'updated_at': datetime.datetime(2023, 7, 8, 7, 16, 7, 289911, tzinfo=datetime.timezone.utc),\n",
       "  'type': 'HOUSE',\n",
       "  'available_now': True,\n",
       "  'created_at': datetime.datetime(2023, 7, 8, 7, 16, 7, 289911, tzinfo=datetime.timezone.utc)},\n",
       " {'owner_id': '9e4b000850ba432795932cdb8f9f9560',\n",
       "  'id': '12ae17134a394c2a8d621604689a42ce',\n",
       "  'address': 'string',\n",
       "  'updated_at': datetime.datetime(2023, 7, 8, 7, 16, 7, 289911, tzinfo=datetime.timezone.utc),\n",
       "  'type': 'HOUSE',\n",
       "  'available_now': True,\n",
       "  'created_at': datetime.datetime(2023, 7, 8, 7, 16, 7, 289911, tzinfo=datetime.timezone.utc)})"
      ]
     },
     "execution_count": 9,
     "metadata": {},
     "output_type": "execute_result"
    }
   ],
   "source": [
    "oof, foo"
   ]
  },
  {
   "cell_type": "code",
   "execution_count": 10,
   "metadata": {},
   "outputs": [
    {
     "data": {
      "text/plain": [
       "True"
      ]
     },
     "execution_count": 10,
     "metadata": {},
     "output_type": "execute_result"
    }
   ],
   "source": [
    "oof == foo"
   ]
  },
  {
   "cell_type": "code",
   "execution_count": null,
   "metadata": {},
   "outputs": [],
   "source": [
    "single = 0.09884071350097656\n",
    "bulk = 0.01474142074584961"
   ]
  }
 ],
 "metadata": {
  "kernelspec": {
   "display_name": "deeplearning",
   "language": "python",
   "name": "python3"
  },
  "language_info": {
   "codemirror_mode": {
    "name": "ipython",
    "version": 3
   },
   "file_extension": ".py",
   "mimetype": "text/x-python",
   "name": "python",
   "nbconvert_exporter": "python",
   "pygments_lexer": "ipython3",
   "version": "3.10.10"
  },
  "orig_nbformat": 4
 },
 "nbformat": 4,
 "nbformat_minor": 2
}
